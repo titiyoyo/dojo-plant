{
 "cells": [
  {
   "cell_type": "code",
   "execution_count": 1,
   "id": "9d12d3bd-a71d-4176-a3c6-1a7c57223284",
   "metadata": {},
   "outputs": [
    {
     "name": "stdout",
     "output_type": "stream",
     "text": [
      "Hit:1 http://security.ubuntu.com/ubuntu jammy-security InRelease\n",
      "Hit:2 http://archive.ubuntu.com/ubuntu jammy InRelease\n",
      "Hit:3 http://archive.ubuntu.com/ubuntu jammy-updates InRelease\n",
      "Hit:4 http://archive.ubuntu.com/ubuntu jammy-backports InRelease\n",
      "Reading package lists... Done\n",
      "Reading package lists... Done\n",
      "Building dependency tree... Done\n",
      "Reading state information... Done\n",
      "libcairo2-dev is already the newest version (1.16.0-5ubuntu2).\n",
      "pkg-config is already the newest version (0.29.2-1ubuntu3).\n",
      "python3-dev is already the newest version (3.10.6-1~22.04).\n",
      "0 upgraded, 0 newly installed, 0 to remove and 13 not upgraded.\n"
     ]
    }
   ],
   "source": [
    "!sudo apt-get update && sudo apt-get -y install pkg-config libcairo2-dev pkg-config python3-dev"
   ]
  },
  {
   "cell_type": "code",
   "execution_count": 2,
   "id": "36636906-9e13-4071-b8d5-7876e145bcf5",
   "metadata": {
    "scrolled": true
   },
   "outputs": [
    {
     "name": "stdout",
     "output_type": "stream",
     "text": [
      "Requirement already satisfied: Pillow in /opt/conda/lib/python3.11/site-packages (10.1.0)\n",
      "Requirement already satisfied: smartcrop in /opt/conda/lib/python3.11/site-packages (0.4.0)\n",
      "Requirement already satisfied: matplotlib in /opt/conda/lib/python3.11/site-packages (3.8.0)\n",
      "Requirement already satisfied: tensorflow in /opt/conda/lib/python3.11/site-packages (2.14.0)\n",
      "Requirement already satisfied: numpy in /opt/conda/lib/python3.11/site-packages (1.24.4)\n",
      "Requirement already satisfied: tqdm in /opt/conda/lib/python3.11/site-packages (4.66.1)\n",
      "Requirement already satisfied: PyGObject in /opt/conda/lib/python3.11/site-packages (from smartcrop) (3.46.0)\n",
      "Requirement already satisfied: pytoolbox>=14.5.1 in /opt/conda/lib/python3.11/site-packages (from pytoolbox[imaging]>=14.5.1->smartcrop) (14.6.0)\n",
      "Requirement already satisfied: contourpy>=1.0.1 in /opt/conda/lib/python3.11/site-packages (from matplotlib) (1.1.1)\n",
      "Requirement already satisfied: cycler>=0.10 in /opt/conda/lib/python3.11/site-packages (from matplotlib) (0.12.1)\n",
      "Requirement already satisfied: fonttools>=4.22.0 in /opt/conda/lib/python3.11/site-packages (from matplotlib) (4.43.1)\n",
      "Requirement already satisfied: kiwisolver>=1.0.1 in /opt/conda/lib/python3.11/site-packages (from matplotlib) (1.4.5)\n",
      "Requirement already satisfied: packaging>=20.0 in /opt/conda/lib/python3.11/site-packages (from matplotlib) (23.2)\n",
      "Requirement already satisfied: pyparsing>=2.3.1 in /opt/conda/lib/python3.11/site-packages (from matplotlib) (3.1.1)\n",
      "Requirement already satisfied: python-dateutil>=2.7 in /opt/conda/lib/python3.11/site-packages (from matplotlib) (2.8.2)\n",
      "Requirement already satisfied: absl-py>=1.0.0 in /opt/conda/lib/python3.11/site-packages (from tensorflow) (2.0.0)\n",
      "Requirement already satisfied: astunparse>=1.6.0 in /opt/conda/lib/python3.11/site-packages (from tensorflow) (1.6.3)\n",
      "Requirement already satisfied: flatbuffers>=23.5.26 in /opt/conda/lib/python3.11/site-packages (from tensorflow) (23.5.26)\n",
      "Requirement already satisfied: gast!=0.5.0,!=0.5.1,!=0.5.2,>=0.2.1 in /opt/conda/lib/python3.11/site-packages (from tensorflow) (0.5.4)\n",
      "Requirement already satisfied: google-pasta>=0.1.1 in /opt/conda/lib/python3.11/site-packages (from tensorflow) (0.2.0)\n",
      "Requirement already satisfied: h5py>=2.9.0 in /opt/conda/lib/python3.11/site-packages (from tensorflow) (3.10.0)\n",
      "Requirement already satisfied: libclang>=13.0.0 in /opt/conda/lib/python3.11/site-packages (from tensorflow) (16.0.6)\n",
      "Requirement already satisfied: ml-dtypes==0.2.0 in /opt/conda/lib/python3.11/site-packages (from tensorflow) (0.2.0)\n",
      "Requirement already satisfied: opt-einsum>=2.3.2 in /opt/conda/lib/python3.11/site-packages (from tensorflow) (3.3.0)\n",
      "Requirement already satisfied: protobuf!=4.21.0,!=4.21.1,!=4.21.2,!=4.21.3,!=4.21.4,!=4.21.5,<5.0.0dev,>=3.20.3 in /opt/conda/lib/python3.11/site-packages (from tensorflow) (4.24.3)\n",
      "Requirement already satisfied: setuptools in /opt/conda/lib/python3.11/site-packages (from tensorflow) (68.2.2)\n",
      "Requirement already satisfied: six>=1.12.0 in /opt/conda/lib/python3.11/site-packages (from tensorflow) (1.16.0)\n",
      "Requirement already satisfied: termcolor>=1.1.0 in /opt/conda/lib/python3.11/site-packages (from tensorflow) (2.3.0)\n",
      "Requirement already satisfied: typing-extensions>=3.6.6 in /opt/conda/lib/python3.11/site-packages (from tensorflow) (4.8.0)\n",
      "Requirement already satisfied: wrapt<1.15,>=1.11.0 in /opt/conda/lib/python3.11/site-packages (from tensorflow) (1.14.1)\n",
      "Requirement already satisfied: tensorflow-io-gcs-filesystem>=0.23.1 in /opt/conda/lib/python3.11/site-packages (from tensorflow) (0.34.0)\n",
      "Requirement already satisfied: grpcio<2.0,>=1.24.3 in /opt/conda/lib/python3.11/site-packages (from tensorflow) (1.59.0)\n",
      "Requirement already satisfied: tensorboard<2.15,>=2.14 in /opt/conda/lib/python3.11/site-packages (from tensorflow) (2.14.1)\n",
      "Requirement already satisfied: tensorflow-estimator<2.15,>=2.14.0 in /opt/conda/lib/python3.11/site-packages (from tensorflow) (2.14.0)\n",
      "Requirement already satisfied: keras<2.15,>=2.14.0 in /opt/conda/lib/python3.11/site-packages (from tensorflow) (2.14.0)\n",
      "Requirement already satisfied: wheel<1.0,>=0.23.0 in /opt/conda/lib/python3.11/site-packages (from astunparse>=1.6.0->tensorflow) (0.41.2)\n",
      "Collecting argparse (from pytoolbox>=14.5.1->pytoolbox[imaging]>=14.5.1->smartcrop)\n",
      "  Using cached argparse-1.4.0-py2.py3-none-any.whl (23 kB)\n",
      "Requirement already satisfied: pyaml in /opt/conda/lib/python3.11/site-packages (from pytoolbox>=14.5.1->pytoolbox[imaging]>=14.5.1->smartcrop) (23.9.7)\n",
      "Requirement already satisfied: python-magic in /opt/conda/lib/python3.11/site-packages (from pytoolbox>=14.5.1->pytoolbox[imaging]>=14.5.1->smartcrop) (0.4.27)\n",
      "Requirement already satisfied: pytz in /opt/conda/lib/python3.11/site-packages (from pytoolbox>=14.5.1->pytoolbox[imaging]>=14.5.1->smartcrop) (2023.3.post1)\n",
      "Requirement already satisfied: requests in /opt/conda/lib/python3.11/site-packages (from pytoolbox>=14.5.1->pytoolbox[imaging]>=14.5.1->smartcrop) (2.31.0)\n",
      "Requirement already satisfied: google-auth<3,>=1.6.3 in /opt/conda/lib/python3.11/site-packages (from tensorboard<2.15,>=2.14->tensorflow) (2.23.3)\n",
      "Requirement already satisfied: google-auth-oauthlib<1.1,>=0.5 in /opt/conda/lib/python3.11/site-packages (from tensorboard<2.15,>=2.14->tensorflow) (1.0.0)\n",
      "Requirement already satisfied: markdown>=2.6.8 in /opt/conda/lib/python3.11/site-packages (from tensorboard<2.15,>=2.14->tensorflow) (3.5)\n",
      "Requirement already satisfied: tensorboard-data-server<0.8.0,>=0.7.0 in /opt/conda/lib/python3.11/site-packages (from tensorboard<2.15,>=2.14->tensorflow) (0.7.1)\n",
      "Requirement already satisfied: werkzeug>=1.0.1 in /opt/conda/lib/python3.11/site-packages (from tensorboard<2.15,>=2.14->tensorflow) (3.0.0)\n",
      "Requirement already satisfied: pycairo>=1.16.0 in /opt/conda/lib/python3.11/site-packages (from PyGObject->smartcrop) (1.25.1)\n",
      "Requirement already satisfied: cachetools<6.0,>=2.0.0 in /opt/conda/lib/python3.11/site-packages (from google-auth<3,>=1.6.3->tensorboard<2.15,>=2.14->tensorflow) (5.3.1)\n",
      "Requirement already satisfied: pyasn1-modules>=0.2.1 in /opt/conda/lib/python3.11/site-packages (from google-auth<3,>=1.6.3->tensorboard<2.15,>=2.14->tensorflow) (0.3.0)\n",
      "Requirement already satisfied: rsa<5,>=3.1.4 in /opt/conda/lib/python3.11/site-packages (from google-auth<3,>=1.6.3->tensorboard<2.15,>=2.14->tensorflow) (4.9)\n",
      "Requirement already satisfied: requests-oauthlib>=0.7.0 in /opt/conda/lib/python3.11/site-packages (from google-auth-oauthlib<1.1,>=0.5->tensorboard<2.15,>=2.14->tensorflow) (1.3.1)\n",
      "Requirement already satisfied: charset-normalizer<4,>=2 in /opt/conda/lib/python3.11/site-packages (from requests->pytoolbox>=14.5.1->pytoolbox[imaging]>=14.5.1->smartcrop) (3.3.0)\n",
      "Requirement already satisfied: idna<4,>=2.5 in /opt/conda/lib/python3.11/site-packages (from requests->pytoolbox>=14.5.1->pytoolbox[imaging]>=14.5.1->smartcrop) (3.4)\n",
      "Requirement already satisfied: urllib3<3,>=1.21.1 in /opt/conda/lib/python3.11/site-packages (from requests->pytoolbox>=14.5.1->pytoolbox[imaging]>=14.5.1->smartcrop) (2.0.7)\n",
      "Requirement already satisfied: certifi>=2017.4.17 in /opt/conda/lib/python3.11/site-packages (from requests->pytoolbox>=14.5.1->pytoolbox[imaging]>=14.5.1->smartcrop) (2023.7.22)\n",
      "Requirement already satisfied: MarkupSafe>=2.1.1 in /opt/conda/lib/python3.11/site-packages (from werkzeug>=1.0.1->tensorboard<2.15,>=2.14->tensorflow) (2.1.3)\n",
      "Requirement already satisfied: PyYAML in /opt/conda/lib/python3.11/site-packages (from pyaml->pytoolbox>=14.5.1->pytoolbox[imaging]>=14.5.1->smartcrop) (6.0.1)\n",
      "Requirement already satisfied: pyasn1<0.6.0,>=0.4.6 in /opt/conda/lib/python3.11/site-packages (from pyasn1-modules>=0.2.1->google-auth<3,>=1.6.3->tensorboard<2.15,>=2.14->tensorflow) (0.5.0)\n",
      "Requirement already satisfied: oauthlib>=3.0.0 in /opt/conda/lib/python3.11/site-packages (from requests-oauthlib>=0.7.0->google-auth-oauthlib<1.1,>=0.5->tensorboard<2.15,>=2.14->tensorflow) (3.2.2)\n",
      "Installing collected packages: argparse\n",
      "Successfully installed argparse-1.4.0\n"
     ]
    }
   ],
   "source": [
    "!pip install Pillow smartcrop matplotlib tensorflow numpy tqdm"
   ]
  },
  {
   "cell_type": "code",
   "execution_count": 3,
   "id": "ef2e0e5d-e280-4a38-93e0-6808b7603ce8",
   "metadata": {},
   "outputs": [
    {
     "name": "stdout",
     "output_type": "stream",
     "text": [
      "hello la team DOJO!\n"
     ]
    }
   ],
   "source": [
    "print(\"hello la team DOJO!\")\n",
    "\n",
    "path_to_dataset = './data/dataset'\n",
    "path_to_cropped = path_to_dataset + '/cropped'\n",
    "path_to_other = path_to_dataset + '/other'\n",
    "path_to_unsorted = path_to_dataset + '/unsorted'"
   ]
  },
  {
   "cell_type": "code",
   "execution_count": 4,
   "id": "eff5341d-6257-4008-9f9f-201f4075f57a",
   "metadata": {},
   "outputs": [
    {
     "name": "stderr",
     "output_type": "stream",
     "text": [
      "2023-11-09 22:06:11.716955: I tensorflow/tsl/cuda/cudart_stub.cc:28] Could not find cuda drivers on your machine, GPU will not be used.\n",
      "2023-11-09 22:06:11.755757: E tensorflow/compiler/xla/stream_executor/cuda/cuda_dnn.cc:9342] Unable to register cuDNN factory: Attempting to register factory for plugin cuDNN when one has already been registered\n",
      "2023-11-09 22:06:11.755800: E tensorflow/compiler/xla/stream_executor/cuda/cuda_fft.cc:609] Unable to register cuFFT factory: Attempting to register factory for plugin cuFFT when one has already been registered\n",
      "2023-11-09 22:06:11.755832: E tensorflow/compiler/xla/stream_executor/cuda/cuda_blas.cc:1518] Unable to register cuBLAS factory: Attempting to register factory for plugin cuBLAS when one has already been registered\n",
      "2023-11-09 22:06:11.762665: I tensorflow/tsl/cuda/cudart_stub.cc:28] Could not find cuda drivers on your machine, GPU will not be used.\n",
      "2023-11-09 22:06:12.815537: W tensorflow/compiler/tf2tensorrt/utils/py_utils.cc:38] TF-TRT Warning: Could not find TensorRT\n"
     ]
    }
   ],
   "source": [
    "from modules import dataload\n",
    "\n",
    "unsorted_images = dataload.get_images(path_to_unsorted)\n",
    "other_images = dataload.get_images(path_to_other)\n",
    "\n",
    "all_images = unsorted_images + other_images"
   ]
  },
  {
   "cell_type": "code",
   "execution_count": 5,
   "id": "9bb425fc-39fc-4d49-86d1-a035a33b9d68",
   "metadata": {
    "scrolled": true
   },
   "outputs": [
    {
     "name": "stdout",
     "output_type": "stream",
     "text": [
      "[PosixPath('data/dataset/other/acrocarpus_flaxinifolius/8f6ab0ecf6918644ea5b34c0bebd872f.jpg'),\n",
      " PosixPath('data/dataset/other/albizia_coriaria/0a5079fae5621f881e6f03c8a96c8305.jpg'),\n",
      " PosixPath('data/dataset/other/albizia_coriaria/0b6917a968f1dd06d388133971761f0d.jpg'),\n",
      " PosixPath('data/dataset/other/albizia_coriaria/199e57d52a45a2bea3b39fc91f4bfd64.jpg'),\n",
      " PosixPath('data/dataset/other/albizia_coriaria/233877e78f9b35f79c3ba90b51e7d4af.jpg'),\n",
      " PosixPath('data/dataset/other/albizia_coriaria/24b74f7732b1453bedabd8ebe3ec90c1.jpg'),\n",
      " PosixPath('data/dataset/other/albizia_coriaria/2b1cc4b7ed420caa03e8f597f9743f20.jpg'),\n",
      " PosixPath('data/dataset/other/albizia_coriaria/2bbfec122846af23748fce77a234e683.jpg'),\n",
      " PosixPath('data/dataset/other/albizia_coriaria/2dace74482683540555d2affd4e6847a.jpg'),\n",
      " PosixPath('data/dataset/other/albizia_coriaria/368f57be19dd40cd6935e3cd6acc5785.jpg'),\n",
      " PosixPath('data/dataset/other/albizia_coriaria/38a3cd188f0ad999d3df370b1e6f9459.jpg'),\n",
      " PosixPath('data/dataset/other/albizia_coriaria/38b2e6bd8cc0bb8bb749833314cd97ad.jpg'),\n",
      " PosixPath('data/dataset/other/albizia_coriaria/38e3cabcc747244d43abcbd6da765fef.jpg'),\n",
      " PosixPath('data/dataset/other/albizia_coriaria/3bc21708a4344da3efd01d183872bac8.jpg'),\n",
      " PosixPath('data/dataset/other/albizia_coriaria/3c154ebfb8c84cc3d85edccb9ef38948.jpg'),\n",
      " PosixPath('data/dataset/other/albizia_coriaria/3d07ec254a996ea9d4f0906d8e52e783.jpg'),\n",
      " PosixPath('data/dataset/other/albizia_coriaria/4a318fac43a535731f452fc073a09b2f.jpg'),\n",
      " PosixPath('data/dataset/other/albizia_coriaria/5997bd3c2d2527eeb5725f5823b8a93b.jpg'),\n",
      " PosixPath('data/dataset/other/albizia_coriaria/5a52c57aa3f66f808d9d9f244dc9acbb.jpg'),\n",
      " PosixPath('data/dataset/other/albizia_coriaria/5d5ddc39c0d0de8a1a48a871f009251e.jpg'),\n",
      " PosixPath('data/dataset/other/albizia_coriaria/7206734c3fd0f9acf439e6e17c927a3f.jpg'),\n",
      " PosixPath('data/dataset/other/albizia_coriaria/753deabdab350ee5ab192533705fec7f.jpg'),\n",
      " PosixPath('data/dataset/other/albizia_coriaria/88f0e8ba04fc0e1c62f349fb08f1dfff.jpg'),\n",
      " PosixPath('data/dataset/other/albizia_coriaria/8eff59b76cc39a36af508d1a7f6fde2b.jpg'),\n",
      " PosixPath('data/dataset/other/albizia_coriaria/9036b115775429cee04df47d7156f2cb.jpg'),\n",
      " PosixPath('data/dataset/other/albizia_coriaria/933f3af9db28d790283672dd6ad1f499.jpg'),\n",
      " PosixPath('data/dataset/other/albizia_coriaria/9a04ea94308a88c827222cb8526746ec.jpg'),\n",
      " PosixPath('data/dataset/other/albizia_coriaria/9f198b1c2ed4ad346b65e5ab83d22008.jpg'),\n",
      " PosixPath('data/dataset/other/albizia_coriaria/a3088a1fc9004133d5e98e81c3e146b6.jpg'),\n",
      " PosixPath('data/dataset/other/albizia_coriaria/a704f7702f03558820bf36c6b550d61a.jpg'),\n",
      " PosixPath('data/dataset/other/albizia_coriaria/aa876d9cde24823aeee8c44ad2f6138d.jpg'),\n",
      " PosixPath('data/dataset/other/albizia_coriaria/af733c98cb0789e3fbd066b88b4294e9.jpg'),\n",
      " PosixPath('data/dataset/other/albizia_coriaria/c17fd4252990b3591ce7dfbf249c2038.jpg'),\n",
      " PosixPath('data/dataset/other/albizia_coriaria/c61f59ff830262fbda8280b39e7fe1d6.jpg'),\n",
      " PosixPath('data/dataset/other/albizia_coriaria/d9eb28fd732d19b1365fd1274de51de6.jpg'),\n",
      " PosixPath('data/dataset/other/albizia_coriaria/da60f18645d618faa43e5193132a4508.jpg'),\n",
      " PosixPath('data/dataset/other/albizia_coriaria/da7213b12788f850f80243e5f6e08883.jpg'),\n",
      " PosixPath('data/dataset/other/albizia_coriaria/daac7f1070c7360dbcd40d4bce82a316.jpg'),\n",
      " PosixPath('data/dataset/other/albizia_coriaria/e78861bc6aa69924cc57f1fb03ce6a8c.jpg'),\n",
      " PosixPath('data/dataset/other/albizia_coriaria/f30901365a24f9872c03902cfa894321.jpg'),\n",
      " PosixPath('data/dataset/other/albizia_gummifera/1499865207ae0c7bcb0575f0723836cb.jpg'),\n",
      " PosixPath('data/dataset/other/albizia_lebbeck/0af5f9bfb438c806e0dc05fac7f47ea3.jpg'),\n",
      " PosixPath('data/dataset/other/albizia_lebbeck/188c938926ab98f6caa007889105c815.jpg'),\n",
      " PosixPath('data/dataset/other/albizia_lebbeck/2214fc8b61a88e1977a4b4d29a41dddc.jpg'),\n",
      " PosixPath('data/dataset/other/albizia_lebbeck/3fd8457a519f7eec67c99d3fccb81063.jpg'),\n",
      " PosixPath('data/dataset/other/albizia_lebbeck/7ffb4916049c32bdc7baa5ba7e428524.jpg'),\n",
      " PosixPath('data/dataset/other/albizia_lebbeck/8c0ee8cd2128494faa5418f8e970447f.jpg'),\n",
      " PosixPath('data/dataset/other/albizia_lebbeck/90231586b4f5d8ab9d1ddc0571249c48.jpg'),\n",
      " PosixPath('data/dataset/other/albizia_lebbeck/9245a6bb3b52de262476491df7981dc9.jpg'),\n",
      " PosixPath('data/dataset/other/albizia_lebbeck/a576d537d012843a437feb2a5ce37af1.jpg'),\n",
      " PosixPath('data/dataset/other/albizia_lebbeck/b13790444fbcec4ea7ce0bc476c7c505.jpg'),\n",
      " PosixPath('data/dataset/other/albizia_lebbeck/b762e73f55c35c7804016778b8dfaf9a.jpg'),\n",
      " PosixPath('data/dataset/other/albizia_lebbeck/dea4eadd30dd4cfe726cfa80243c3a82.jpg'),\n",
      " PosixPath('data/dataset/other/albizia_schimperiana/01d1bc733386dce93a58120de6b94263.jpg'),\n",
      " PosixPath('data/dataset/other/albizia_schimperiana/0335d7fb2ace4fda991f21df7e8fb9f8.jpg'),\n",
      " PosixPath('data/dataset/other/albizia_schimperiana/03c882d2e1f1cec4f0f89e3e96751617.jpg'),\n",
      " PosixPath('data/dataset/other/albizia_schimperiana/101f07fb1abd6c22c01f5c7606dfc0f8.jpg'),\n",
      " PosixPath('data/dataset/other/albizia_schimperiana/137e1221cac4f324734abb361feba546.jpg'),\n",
      " PosixPath('data/dataset/other/albizia_schimperiana/1624205771805871f41548adfc48557d.jpg'),\n",
      " PosixPath('data/dataset/other/albizia_schimperiana/1af946c40ed4ebfbd8367215907fc620.jpg'),\n",
      " PosixPath('data/dataset/other/albizia_schimperiana/1bedbbbe6f331d31343b541693d205ee.jpg'),\n",
      " PosixPath('data/dataset/other/albizia_schimperiana/1c0052eb37b5034abe54cc3178d96639.jpg'),\n",
      " PosixPath('data/dataset/other/albizia_schimperiana/220c48fccfc0642e2842ba84ead4b707.jpg'),\n",
      " PosixPath('data/dataset/other/albizia_schimperiana/2678585d3ba019c282b0865ea6db960a.jpg'),\n",
      " PosixPath('data/dataset/other/albizia_schimperiana/2a1eeb6e89f986fadb06da3f9f9cc15c.jpg'),\n",
      " PosixPath('data/dataset/other/albizia_schimperiana/35657b81882e140ab7378f906261435c.jpg'),\n",
      " PosixPath('data/dataset/other/albizia_schimperiana/3639b2a2258f00a622a1e33fe9d15f10.jpg'),\n",
      " PosixPath('data/dataset/other/albizia_schimperiana/37273569a2b07fdce6bfef89f0263290.jpg'),\n",
      " PosixPath('data/dataset/other/albizia_schimperiana/3c7ad1ad1509b454ad9fe0aadbee0469.jpg'),\n",
      " PosixPath('data/dataset/other/albizia_schimperiana/3cd9eba43825003d9d483a2ff3d6cc40.jpg'),\n",
      " PosixPath('data/dataset/other/albizia_schimperiana/401878cb5e19043ed5c3823f2dcee327.jpg'),\n",
      " PosixPath('data/dataset/other/albizia_schimperiana/43dc836949ee1ca26815b799a560cd02.jpg'),\n",
      " PosixPath('data/dataset/other/albizia_schimperiana/47adc77f7a0ce0f36e9c948bd45d3716.jpg'),\n",
      " PosixPath('data/dataset/other/albizia_schimperiana/47dc4c610020e7f2bf3f633d2da921f3.jpg'),\n",
      " PosixPath('data/dataset/other/albizia_schimperiana/4992cb8a7e1e3e5192915cc032e89d91.jpg'),\n",
      " PosixPath('data/dataset/other/albizia_schimperiana/4d000282723316972887921ca9dc3687.jpg'),\n",
      " PosixPath('data/dataset/other/albizia_schimperiana/4d96312046356d18a6847b89ae33b5e0.jpg'),\n",
      " PosixPath('data/dataset/other/albizia_schimperiana/4f324f959dbfb7647efbaec98c94d599.jpg'),\n",
      " PosixPath('data/dataset/other/albizia_schimperiana/5065c9721cea53bc4b7fe97fda74c4ab.jpg'),\n",
      " PosixPath('data/dataset/other/albizia_schimperiana/50c63e4fde1eb92fc6d9d5fd31c2d7e9.jpg'),\n",
      " PosixPath('data/dataset/other/albizia_schimperiana/51a8e86e5e97e93846d3069dfd0a63e9.jpg'),\n",
      " PosixPath('data/dataset/other/albizia_schimperiana/559a947f470aa9121a17ce4bf215d02c.jpg'),\n",
      " PosixPath('data/dataset/other/albizia_schimperiana/55e8517eb5af0b620c3d9f3670f86236.jpg'),\n",
      " PosixPath('data/dataset/other/albizia_schimperiana/5ac174781c79d81e46ac6db0323ade8b.jpg'),\n",
      " PosixPath('data/dataset/other/albizia_schimperiana/5acd4e8139aed4b075e9941782019cb9.jpg'),\n",
      " PosixPath('data/dataset/other/albizia_schimperiana/5e8339882e3867ec47c4e8b869ceffa3.jpg'),\n",
      " PosixPath('data/dataset/other/albizia_schimperiana/600f49f569682f2b99010a0a89a45046.jpg'),\n",
      " PosixPath('data/dataset/other/albizia_schimperiana/643159f2e733ffd10edb96e2b06c8197.jpg'),\n",
      " PosixPath('data/dataset/other/albizia_schimperiana/6bcc13ea8665e49cc2bfa7c0ddbf5f18.jpg'),\n",
      " PosixPath('data/dataset/other/albizia_schimperiana/6f7f95a7991e856e9e62876add5ea222.jpg'),\n",
      " PosixPath('data/dataset/other/albizia_schimperiana/70a36e38d2f4bd2135b380fb5f50be90.jpg'),\n",
      " PosixPath('data/dataset/other/albizia_schimperiana/785c2a8fe7348c80fd5282d517d3d4f1.jpg'),\n",
      " PosixPath('data/dataset/other/albizia_schimperiana/79926d2646412c88018b443c4df270d5.jpg'),\n",
      " PosixPath('data/dataset/other/albizia_schimperiana/7b78712a7fb7b3c88c33f07b029afca8.jpg'),\n",
      " PosixPath('data/dataset/other/albizia_schimperiana/7d8d8dc9c5a745d5e81ac44eb89fa069.jpg'),\n",
      " PosixPath('data/dataset/other/albizia_schimperiana/7e29975096baff2b54c000c9579655e9.jpg'),\n",
      " PosixPath('data/dataset/other/albizia_schimperiana/85f291852e76a24be280bffc6bf23c32.jpg'),\n",
      " PosixPath('data/dataset/other/albizia_schimperiana/86f2d30d93eb1dd367ba8e0a7408679f.jpg'),\n",
      " PosixPath('data/dataset/other/albizia_schimperiana/882462bc457c8357561ce6ee707f3183.jpg'),\n",
      " PosixPath('data/dataset/other/albizia_schimperiana/8a0e577a75436283c1396454d7a2856b.jpg')]\n"
     ]
    }
   ],
   "source": [
    "from pprint import pprint\n",
    "pprint(sorted(all_images)[:100])"
   ]
  },
  {
   "cell_type": "code",
   "execution_count": 6,
   "id": "b9e4994b-650a-4a7d-81b4-9337d72150ba",
   "metadata": {},
   "outputs": [
    {
     "ename": "NameError",
     "evalue": "name 'crop' is not defined",
     "output_type": "error",
     "traceback": [
      "\u001b[0;31m---------------------------------------------------------------------------\u001b[0m",
      "\u001b[0;31mNameError\u001b[0m                                 Traceback (most recent call last)",
      "Cell \u001b[0;32mIn[6], line 3\u001b[0m\n\u001b[1;32m      1\u001b[0m \u001b[38;5;28;01mfrom\u001b[39;00m \u001b[38;5;21;01mmodules\u001b[39;00m \u001b[38;5;28;01mimport\u001b[39;00m crop_tqdm\n\u001b[0;32m----> 3\u001b[0m \u001b[43mcrop\u001b[49m\u001b[38;5;241m.\u001b[39mcrop_images(all_images, path_to_cropped)\n",
      "\u001b[0;31mNameError\u001b[0m: name 'crop' is not defined"
     ]
    }
   ],
   "source": [
    "from modules import crop_tqdm\n",
    "\n",
    "crop.crop_images(all_images, path_to_cropped)"
   ]
  }
 ],
 "metadata": {
  "kernelspec": {
   "display_name": "Python 3 (ipykernel)",
   "language": "python",
   "name": "python3"
  },
  "language_info": {
   "codemirror_mode": {
    "name": "ipython",
    "version": 3
   },
   "file_extension": ".py",
   "mimetype": "text/x-python",
   "name": "python",
   "nbconvert_exporter": "python",
   "pygments_lexer": "ipython3",
   "version": "3.11.6"
  }
 },
 "nbformat": 4,
 "nbformat_minor": 5
}
